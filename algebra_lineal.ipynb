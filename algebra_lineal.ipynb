{
 "cells": [
  {
   "cell_type": "markdown",
   "metadata": {},
   "source": [
    "# Álgebra Lineal"
   ]
  },
  {
   "cell_type": "markdown",
   "metadata": {},
   "source": [
    "El álgebra lineal es el estudio de vectores y ciertas reglas para maniuparlos.\n",
    "\n",
    "### Vector\n",
    "Son objetos que cumple con las siguientes condiciones:\n",
    "\n",
    "    Se pueden sumar entre sí, y el resultado da otro vector.\n",
    "    \n",
    "   \\begin{align}\n",
    "       \\textbf{x} + \\textbf{y} = \\textbf{z}\n",
    "   \\end{align}\n",
    "    \n",
    "    Pueden ser multiplicados por una escalar.\n",
    "    \n",
    "   \\begin{align}\n",
    "   \\lambda \\textbf{x}\n",
    "   \\end{align}\n",
    "   \n",
    "Ejemplos:\n",
    "\n",
    "    Vector geométrico (dado por coordenadas en el plano cartesiano)\n",
    "    \n",
    "    Polinomios\n",
    "    \n",
    "    Señales de audio\n",
    "    \n",
    "    Elementos de  $\\mathbb{R}^{n}$ \n",
    "    \n",
    "En ML (Machine Learning) nos enfocamos en los elementos de $\\mathbb{R}^{n}$"
   ]
  },
  {
   "cell_type": "markdown",
   "metadata": {},
   "source": [
    "Una pregunta importante en el mundo de las matemáticas es:\n",
    "##### ¿Cuál es el conjunto de todas las cosas que pueden resultar de mis operaciones propuestas?\n",
    "\n",
    "Aplicandolo a álgebra lineal, sería,\n",
    "##### ¿Cuál es el conjunto de vectores que puede resultar al comenzar con un pequeño conjunto de vectores, y sumarlos y escalarlos entre sí?\n",
    "\n",
    "Y las respuesta es: *el espacio vectorial*."
   ]
  },
  {
   "cell_type": "code",
   "execution_count": 4,
   "metadata": {},
   "outputs": [
    {
     "name": "stdout",
     "output_type": "stream",
     "text": [
      "[0 1 2 3 4 5 6 7 8 9]\n"
     ]
    },
    {
     "data": {
      "text/plain": [
       "numpy.ndarray"
      ]
     },
     "execution_count": 4,
     "metadata": {},
     "output_type": "execute_result"
    }
   ],
   "source": [
    "# Creando un vector con numpy\n",
    "import numpy as np\n",
    "\n",
    "vector = np.array([0,1,2,3,4,5,6,7,8,9]) # 1d array\n",
    "\n",
    "print(vector)\n",
    "type(vector)"
   ]
  },
  {
   "cell_type": "markdown",
   "metadata": {},
   "source": [
    "## 1.1 Sistemas de Ecuaciones Lineales"
   ]
  },
  {
   "cell_type": "markdown",
   "metadata": {},
   "source": [
    "Un sistema de ecuaciones lineales es una colección de una o más ecuaciones lineales que poseen el mismo conjunto de variables.\n",
    "\n",
    "La forma general de un sistema de ecuaciones lineales es:\n",
    "\n",
    "\\begin{align}\n",
    "a_{11}x_{1}  + \\cdots + a_{in}x_{n} =  b_{1}\\\\\n",
    "\\hspace{-5.3cm}\\vdots\\\\\n",
    "a_{m1}x_{1}  + \\cdots + a_{mn}x_{n} =  b_{n} \n",
    "\\end{align}"
   ]
  },
  {
   "cell_type": "markdown",
   "metadata": {},
   "source": [
    "$x$ son los valores desconocidos del sistema."
   ]
  },
  {
   "cell_type": "markdown",
   "metadata": {},
   "source": [
    "Resolver un sistema de ecuaciones lineales, nos lleva a tres posibles escenarios:\n",
    "\n",
    "- Solución única\n",
    "- Múltiples soluciones\n",
    "- No hay solución\n"
   ]
  },
  {
   "cell_type": "markdown",
   "metadata": {},
   "source": [
    "#### Interpretación geométrica de los sistemas de ecuaciones lineales\n",
    "#### En $\\mathbb{R}^{2}$\n",
    "Cuando tenemos dos variables $x_{1}$ y  $x_{2}$ cada ecuación lineal representa una recta en el plano $x_{1}x_{2}$ y las posibles soluciones a esta ecuación lineal serían: linea (cuando ambas ecuaciones son iguales), un punto (cuando existe una única solución) y vacío (cuando las lineas son paralelas).\n",
    "\n",
    "#### En $\\mathbb{R}^{3}$\n",
    "Cuando tenemos tres vaariables $x_{1}$, $x_{2}$  y  $x_{3}$ cada ecuación lineal representa un plano en el espacio $x_{1}x_{2}x_{3}$ y las posibles soluciones son: un plano, una línea, un punto y vacío (cuando los planos no tienen una intersección en común)."
   ]
  },
  {
   "cell_type": "markdown",
   "metadata": {},
   "source": [
    "#### Notación compacta para resolver un sistema de ecuaciones lineales"
   ]
  },
  {
   "cell_type": "markdown",
   "metadata": {},
   "source": [
    "El proceso implica conjuntar los coeficientes $a_{ij}$ en en vectores y conjuntar estos vectores en matrices.\n",
    "\n",
    "\\begin{align}\n",
    "x_{1} \\begin{bmatrix} a_{11} \\\\ \\vdots\\\\ a_{m1} \\end{bmatrix} + x_{2} \\begin{bmatrix} a_{12} \\\\ \\vdots\\\\ a_{m2}  +  \n",
    "\\end{bmatrix} + \\cdots + x_{n} \\begin{bmatrix} a_{1n} \\\\ \\vdots\\\\ a_{mn}   \\end{bmatrix}   = \\begin{bmatrix} b_{1} \\\\ \\vdots\\\\ b_{m} \\end{bmatrix}\n",
    "\\end{align}\n",
    "\n",
    "\\begin{align}\n",
    "\\iff\n",
    "\\end{align}\n",
    "\n",
    "\\begin{align}\n",
    "\\begin{bmatrix}\n",
    "a_{11} &  \\dots & a_{1n} \\\\\n",
    "\\vdots & & \\vdots\\\\\n",
    "a_{m1} & \\dots & a_{mn} \n",
    "\\end{bmatrix} \n",
    "\\begin{bmatrix}\n",
    "x_{1} \\\\ \\vdots\\\\ x_{n}\n",
    "\\end{bmatrix}\n",
    "= \\begin{bmatrix} b_{1} \\\\ \\vdots\\\\ b_{m} \\end{bmatrix}\n",
    "\\end{align}\n",
    "\n"
   ]
  },
  {
   "cell_type": "markdown",
   "metadata": {},
   "source": [
    "Considerese el siguientes sistemas de ecuaciones lineales\n",
    "\n",
    "\\begin{align}\n",
    "    4x + 3y + 2z = 25\\\\\n",
    "    -2x + 2y + 3z = -10\\\\\n",
    "    3x - 5y + 2z = -4\\\\\n",
    "\\end{align}\n",
    "\n",
    "\n"
   ]
  },
  {
   "cell_type": "code",
   "execution_count": 19,
   "metadata": {},
   "outputs": [
    {
     "name": "stdout",
     "output_type": "stream",
     "text": [
      "[[ 4  3  2]\n",
      " [-2  2  3]\n",
      " [ 3 -5  2]]\n",
      "\n",
      "\n",
      "[ 25 -10  -4]\n",
      "\n",
      "\n",
      "[ 5.  3. -2.]\n"
     ]
    }
   ],
   "source": [
    "A = np.array([[4,3,2],[-2,2,3],[3,-5,2]])\n",
    "B = np.array([25,-10,-4])\n",
    "X = np.linalg.inv(A).dot(B)\n",
    "print(A)\n",
    "print(\"\\n\")\n",
    "print(B)\n",
    "print(\"\\n\")\n",
    "print(X)"
   ]
  },
  {
   "cell_type": "markdown",
   "metadata": {},
   "source": [
    "## 2.2 Matrices"
   ]
  },
  {
   "cell_type": "markdown",
   "metadata": {},
   "source": [
    "Una matriz $\\textbf{A}$ es un conjunto ordenado de elementos de acuerdo a un esquema rectangular que consiste en *m* renglanos y *n* columnas.\n",
    "\n",
    "Como se puede expresar en la expresión siguiente:\n",
    "\n",
    "\\begin{align}\n",
    "A = \\begin{bmatrix}\n",
    "a_{11} & a_{12} & \\dots & a_{1n} \\\\\n",
    "a_{21} & a_{22} & \\dots & a_{2n} \\\\\n",
    "\\vdots & \\vdots & \\vdots\\\\\n",
    "a_{m1} & a_{m2} & \\dots & a_{mn} \n",
    "\\end{bmatrix} \n",
    "\\end{align}\n",
    "\n",
    "donde los valores $a_{ij}$ pertenecen a $\\mathbb{R}$"
   ]
  },
  {
   "cell_type": "code",
   "execution_count": 10,
   "metadata": {},
   "outputs": [
    {
     "name": "stdout",
     "output_type": "stream",
     "text": [
      "[[1 2 3]\n",
      " [4 5 6]\n",
      " [7 8 9]]\n"
     ]
    },
    {
     "data": {
      "text/plain": [
       "numpy.ndarray"
      ]
     },
     "execution_count": 10,
     "metadata": {},
     "output_type": "execute_result"
    }
   ],
   "source": [
    "# Escribir una matriz con Numpy\n",
    "\n",
    "matrix_A = np.array([(1,2,3), (4,5,6), (7,8,9)]) # 2d array\n",
    "# Representa una matriz de 3x3 \n",
    "\n",
    "print(matrix_A)\n",
    "\n",
    "type(matrix_A)"
   ]
  },
  {
   "cell_type": "markdown",
   "metadata": {},
   "source": [
    "Como hemos visto, las matrices nos ayudan a escribir una forma compacta a los sistemas de ecuaciones lineales, por esa misma manera, juegan un papel muy importante en álgebra lineal."
   ]
  },
  {
   "cell_type": "markdown",
   "metadata": {},
   "source": [
    "#### Operaciones entre matrices"
   ]
  },
  {
   "cell_type": "markdown",
   "metadata": {},
   "source": [
    "#### Suma\n",
    "\n",
    "\\begin{align}\n",
    "A + B = \\begin{bmatrix}\n",
    "a_{11} &  \\dots & a_{1n}  \\\\\n",
    "\\vdots & & \\vdots\\\\\n",
    "a_{m1} & \\dots & a_{mn} \n",
    "\\end{bmatrix} + \\begin{bmatrix}\n",
    " b_{11} &  \\dots &  b_{1n} \\\\\n",
    "\\vdots & & \\vdots\\\\\n",
    " b_{m1}& \\dots & b_{mn} \n",
    "\\end{bmatrix} =\\begin{bmatrix}\n",
    "a_{11} + b_{11} &  \\dots & a_{1n} + b_{1n} \\\\\n",
    "\\vdots & & \\vdots\\\\\n",
    "a_{m1} + b_{m1}& \\dots & a_{mn} + b_{mn} \n",
    "\\end{bmatrix}\n",
    "\\end{align}"
   ]
  },
  {
   "cell_type": "code",
   "execution_count": 22,
   "metadata": {},
   "outputs": [
    {
     "name": "stdout",
     "output_type": "stream",
     "text": [
      "[[1 2 3]\n",
      " [4 5 6]\n",
      " [7 8 9]]\n",
      "\n",
      "\n",
      "[[9 8 7]\n",
      " [6 5 4]\n",
      " [3 2 1]]\n",
      "\n",
      "\n",
      "[[10 10 10]\n",
      " [10 10 10]\n",
      " [10 10 10]]\n"
     ]
    }
   ],
   "source": [
    "# Suma de matrices\n",
    "\n",
    "matrix_A = np.array([(1,2,3), (4,5,6), (7,8,9)])\n",
    "matrix_B = np.array([(9,8,7),(6,5,4),(3,2,1)])\n",
    "\n",
    "print(matrix_A)\n",
    "print(\"\\n\")\n",
    "print(matrix_B)\n",
    "print(\"\\n\")\n",
    "suma_A_B = matrix_A + matrix_B\n",
    "\n",
    "print(suma_A_B)"
   ]
  },
  {
   "cell_type": "markdown",
   "metadata": {},
   "source": [
    "#### Multiplicación\n",
    "\\begin{align}\n",
    "c_{ij} = \\sum_{l=1}^{n} a_{il} b_{lj}, \\hspace{2cm} i = 1, \\dots, m , \\hspace{2cm}  j = 1, \\dots, k\n",
    "\\end{align}"
   ]
  },
  {
   "cell_type": "markdown",
   "metadata": {},
   "source": [
    "Cada matriz tiene dimensiones $mxn$, para que dos matrices A y B, puedan multiplicarse entre sí, sus dimensiones $mxn$, $kxl$, deben ser iguales en $n=k$."
   ]
  },
  {
   "cell_type": "code",
   "execution_count": 23,
   "metadata": {},
   "outputs": [
    {
     "name": "stdout",
     "output_type": "stream",
     "text": [
      "[[1 2 3]\n",
      " [4 5 6]\n",
      " [7 8 9]]\n",
      "\n",
      "\n",
      "[[9 8 7]\n",
      " [6 5 4]\n",
      " [3 2 1]]\n",
      "\n",
      "\n",
      "[[ 9 16 21]\n",
      " [24 25 24]\n",
      " [21 16  9]]\n"
     ]
    }
   ],
   "source": [
    "matrix_A = np.array([(1,2,3), (4,5,6), (7,8,9)])\n",
    "matrix_B = np.array([(9,8,7),(6,5,4),(3,2,1)])\n",
    "\n",
    "print(matrix_A)\n",
    "print(\"\\n\")\n",
    "print(matrix_B)\n",
    "print(\"\\n\")\n",
    "\n",
    "product_AB = matrix_A*matrix_B\n",
    "\n",
    "print(product_AB)"
   ]
  },
  {
   "cell_type": "code",
   "execution_count": null,
   "metadata": {},
   "outputs": [],
   "source": []
  }
 ],
 "metadata": {
  "kernelspec": {
   "display_name": "Python 3",
   "language": "python",
   "name": "python3"
  },
  "language_info": {
   "codemirror_mode": {
    "name": "ipython",
    "version": 3
   },
   "file_extension": ".py",
   "mimetype": "text/x-python",
   "name": "python",
   "nbconvert_exporter": "python",
   "pygments_lexer": "ipython3",
   "version": "3.7.6"
  }
 },
 "nbformat": 4,
 "nbformat_minor": 4
}
